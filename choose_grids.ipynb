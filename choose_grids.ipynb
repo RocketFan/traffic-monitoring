{
 "cells": [
  {
   "cell_type": "code",
   "execution_count": 3,
   "metadata": {},
   "outputs": [
    {
     "name": "stderr",
     "output_type": "stream",
     "text": [
      "/tmp/ipykernel_16934/48223492.py:74: UserWarning: Geometry is in a geographic CRS. Results from 'centroid' are likely incorrect. Use 'GeoSeries.to_crs()' to re-project geometries to a projected CRS before this operation.\n",
      "\n",
      "  df['centroid'] = all_grids_gdf['geometry'].centroid\n"
     ]
    },
    {
     "data": {
      "application/vnd.jupyter.widget-view+json": {
       "model_id": "ca40997c597b4bfba82eaed813820577",
       "version_major": 2,
       "version_minor": 0
      },
      "text/plain": [
       "Map(center=[38.74256107238327, -9.156505551146509], controls=(ZoomControl(options=['position', 'zoom_in_text',…"
      ]
     },
     "metadata": {},
     "output_type": "display_data"
    }
   ],
   "source": [
    "import os\n",
    "import pandas as pd\n",
    "import geopandas as gpd\n",
    "import asyncio\n",
    "\n",
    "from shapely import wkt\n",
    "from ipyleaflet import Map, GeoData, LayersControl, basemaps\n",
    "from IPython.display import display\n",
    "\n",
    "mutex = asyncio.Lock()\n",
    "\n",
    "FILE_PATH = 'data/grids/main_roads_grids.csv'\n",
    "\n",
    "def load_geodata(file_path):\n",
    "    gdf = gpd.read_file(file_path)\n",
    "    gdf['geometry'] = gdf['wkt'].apply(lambda x: wkt.loads(x))\n",
    "    gdf.set_geometry('geometry', inplace=True)\n",
    "    gdf.set_crs(epsg=4326, inplace=True)\n",
    "    return gdf\n",
    "\n",
    "def create_map(df):\n",
    "    m = Map(center=(df['lat'].mean(), df['lon'].mean()), scroll_wheel_zoom=True, zoom=11, basemap=basemaps.OpenStreetMap.Mapnik)\n",
    "    m.layout.height = '1000px'\n",
    "    return m\n",
    "\n",
    "def save_selected_grids():\n",
    "    if selected_grids_gdf.empty:\n",
    "        if os.path.exists(FILE_PATH):\n",
    "            os.remove(FILE_PATH)\n",
    "    else: \n",
    "        selected_grids_gdf['id'] = selected_grids_gdf.index\n",
    "        selected_grids_gdf.rename_geometry('wkt').to_csv(FILE_PATH, index=False)\n",
    "\n",
    "def handle_click_all_grids_layer(**kwargs):\n",
    "    asyncio.create_task(_handle_click_all_grids_layer(**kwargs))\n",
    "\n",
    "async def _handle_click_all_grids_layer(**kwargs):\n",
    "    async with mutex:\n",
    "        properties = kwargs.get('feature').get('properties')\n",
    "        selected_grids_gdf.loc[properties['grelha_id']] = {'geometry': wkt.loads(properties['wkt'])}\n",
    "        selected_grids_gdf.set_geometry('geometry', inplace=True)\n",
    "        selected_grids_gdf.set_crs(epsg=4326, inplace=True)\n",
    "        selected_grids_layer.geo_dataframe = selected_grids_gdf\n",
    "        save_selected_grids()\n",
    "    \n",
    "    await asyncio.sleep(0.1)\n",
    "\n",
    "def handle_click_selected_grids_layer(**kwargs):\n",
    "    asyncio.create_task(_handle_click_selected_grids_layer(**kwargs))\n",
    "\n",
    "async def _handle_click_selected_grids_layer(**kwargs):\n",
    "    async with mutex:\n",
    "        id = kwargs.get('feature')['id']\n",
    "        selected_grids_gdf.drop(id, inplace=True)\n",
    "        selected_grids_layer.geo_dataframe = selected_grids_gdf\n",
    "        save_selected_grids()\n",
    "\n",
    "    await asyncio.sleep(0.1)\n",
    "\n",
    "# Load your GeoDataFrame\n",
    "all_grids_gdf = load_geodata('data/wktComplete.csv')\n",
    "\n",
    "if os.path.exists(FILE_PATH):\n",
    "    selected_grids_gdf = load_geodata(FILE_PATH)\n",
    "    selected_grids_gdf.set_index('id', inplace=True)\n",
    "    selected_grids_gdf.drop('wkt', axis=1, inplace=True)\n",
    "else:\n",
    "    selected_grids_gdf = gpd.GeoDataFrame(columns=['geometry'], geometry='geometry', crs='EPSG:4326')\n",
    "\n",
    "# Convert the GeoDataFrame to a DataFrame\n",
    "df = pd.DataFrame(all_grids_gdf)\n",
    "\n",
    "# Calculate the centroid of each polygon\n",
    "df['centroid'] = all_grids_gdf['geometry'].centroid\n",
    "\n",
    "# Extract the latitude and longitude from the centroid column\n",
    "df['lon'] = df['centroid'].apply(lambda point: point.x)\n",
    "df['lat'] = df['centroid'].apply(lambda point: point.y)\n",
    "\n",
    "# Create a map\n",
    "m = create_map(df)\n",
    "\n",
    "all_grids_gdf = all_grids_gdf.map(lambda x: x.decode('utf-8') if isinstance(x, bytes) else x)\n",
    "\n",
    "all_grids_layer = GeoData(geo_dataframe=all_grids_gdf, style={'color': 'blue', 'opacity':1, 'weight':1, 'fillOpacity':0.1}, name='AllGrids')\n",
    "selected_grids_layer = GeoData(geo_dataframe=selected_grids_gdf, style={'color': 'red', 'opacity':1, 'weight':1, 'fillOpacity':0.1}, name='SelectedGrids')\n",
    "\n",
    "all_grids_layer.on_click(handle_click_all_grids_layer)\n",
    "selected_grids_layer.on_click(handle_click_selected_grids_layer)\n",
    "\n",
    "m.add_layer(all_grids_layer)\n",
    "m.add_layer(selected_grids_layer)\n",
    "m.add_control(LayersControl())\n",
    "\n",
    "display(m)"
   ]
  }
 ],
 "metadata": {
  "kernelspec": {
   "display_name": "traffic-monitoring",
   "language": "python",
   "name": "python3"
  },
  "language_info": {
   "codemirror_mode": {
    "name": "ipython",
    "version": 3
   },
   "file_extension": ".py",
   "mimetype": "text/x-python",
   "name": "python",
   "nbconvert_exporter": "python",
   "pygments_lexer": "ipython3",
   "version": "3.10.13"
  }
 },
 "nbformat": 4,
 "nbformat_minor": 2
}
