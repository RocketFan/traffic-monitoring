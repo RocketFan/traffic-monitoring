{
 "cells": [
  {
   "cell_type": "code",
   "execution_count": 1,
   "metadata": {},
   "outputs": [
    {
     "data": {
      "application/vnd.jupyter.widget-view+json": {
       "model_id": "bac913cce4e74d0f864f1d3208138686",
       "version_major": 2,
       "version_minor": 0
      },
      "text/plain": [
       "Map(center=[38.74256107238327, -9.156505551146509], controls=(ZoomControl(options=['position', 'zoom_in_text',…"
      ]
     },
     "execution_count": 1,
     "metadata": {},
     "output_type": "execute_result"
    }
   ],
   "source": [
    "import pandas as pd\n",
    "import geopandas as gpd\n",
    "import ipywidgets\n",
    "from shapely import wkt\n",
    "from IPython.display import display\n",
    "from ipyleaflet import Map, GeoData, LayersControl, basemaps\n",
    "from threading import Lock\n",
    "\n",
    "def load_geodata(file_path):\n",
    "    gdf = gpd.read_file(file_path)\n",
    "    gdf['geometry'] = gdf['wkt'].apply(lambda x: wkt.loads(x))\n",
    "    gdf.set_geometry('geometry', inplace=True)\n",
    "    gdf.set_crs(epsg=4326, inplace=True)\n",
    "    return gdf\n",
    "\n",
    "def create_map(df):\n",
    "    m = Map(center=(df['lat'].mean(), df['lon'].mean()), scroll_wheel_zoom=True, zoom=11, basemap=basemaps.OpenStreetMap.Mapnik)\n",
    "    m.layout.height = '600px'\n",
    "    return m\n",
    "\n",
    "def handle_click(**kwargs):\n",
    "    with mutex:\n",
    "        properties = kwargs.get('feature').get('properties')\n",
    "        grids_gdf.loc[properties['grelha_id']] = {'geometry': wkt.loads(properties['wkt'])}\n",
    "        grids_gdf.set_geometry('geometry', inplace=True)\n",
    "        grids_gdf.set_crs(epsg=4326, inplace=True)\n",
    "        selected_grids_data.geo_dataframe = grids_gdf\n",
    "        grids_gdf.to_csv('data/selected_grids.csv')\n",
    "\n",
    "def handle_click_selected_grids(**kwargs):\n",
    "    with mutex:\n",
    "        id = kwargs.get('feature')['id']\n",
    "        grids_gdf.drop(id, inplace=True)\n",
    "        selected_grids_data.geo_dataframe = grids_gdf\n",
    "        grids_gdf.to_csv('data/selected_grids.csv')\n",
    "\n",
    "# Load your GeoDataFrame\n",
    "gdf = load_geodata('data/wktComplete.csv')\n",
    "\n",
    "# Convert the GeoDataFrame to a DataFrame\n",
    "df = pd.DataFrame(gdf)\n",
    "\n",
    "# Calculate the centroid of each polygon\n",
    "df['centroid'] = gdf['geometry'].centroid\n",
    "\n",
    "# Extract the latitude and longitude from the centroid column\n",
    "df['lon'] = df['centroid'].apply(lambda point: point.x)\n",
    "df['lat'] = df['centroid'].apply(lambda point: point.y)\n",
    "\n",
    "# Create a map\n",
    "m = create_map(df)\n",
    "\n",
    "grids_gdf = gpd.GeoDataFrame(columns=['geometry'], geometry='geometry', crs='EPSG:4326')\n",
    "gdf = gdf.map(lambda x: x.decode('utf-8') if isinstance(x, bytes) else x)\n",
    "\n",
    "geo_data = GeoData(geo_dataframe=gdf, style={'color': 'blue', 'opacity':1, 'weight':1.9, 'fillOpacity':0.1}, name='GeoData')\n",
    "selected_grids_data = GeoData(geo_dataframe=grids_gdf, style={'color': 'red', 'opacity':1, 'weight':1.9, 'fillOpacity':0.1}, name='Selected Grids')\n",
    "\n",
    "geo_data.on_click(handle_click)\n",
    "# selected_grids_data.on_click(handle_click_selected_grids)\n",
    "\n",
    "m.add_layer(geo_data)\n",
    "m.add_layer(selected_grids_data)\n",
    "m.add_control(LayersControl())\n",
    "\n",
    "m"
   ]
  }
 ],
 "metadata": {
  "kernelspec": {
   "display_name": "traffic-monitoring",
   "language": "python",
   "name": "python3"
  },
  "language_info": {
   "codemirror_mode": {
    "name": "ipython",
    "version": 3
   },
   "file_extension": ".py",
   "mimetype": "text/x-python",
   "name": "python",
   "nbconvert_exporter": "python",
   "pygments_lexer": "ipython3",
   "version": "3.10.13"
  }
 },
 "nbformat": 4,
 "nbformat_minor": 2
}
