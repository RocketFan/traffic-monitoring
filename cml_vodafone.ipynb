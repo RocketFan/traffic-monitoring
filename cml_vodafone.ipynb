{
 "cells": [
  {
   "cell_type": "markdown",
   "metadata": {},
   "source": [
    "    Variables Description:\n",
    "- C1 Number of distinct terminals in the grid\n",
    "- C2 Number of distinct terminals in roaming in the grid\n",
    "- C3 Number of distinct terminals that remained in the grid\n",
    "- C4 Number of distinct terminals that remained in the grid in roaming\n",
    "- C5 Number of distinct terminal entries in the grid\n",
    "- C6 Number of distinct terminal exits from the grid\n",
    "- C7 Number of distinct terminal entries in roaming in the grid\n",
    "- C8 Number of distinct terminal exits in roaming from the grid\n",
    "- C9 Number of distinct terminals with active data connection in the grid\n",
    "- C10 Number of distinct terminals with active data connection in roaming in the grid\n",
    "- C11 Number of voice calls originating from the grid\n",
    "- C12 Number of entries in Lisbon through the 11 main road axes\n",
    "- C13 Number of exits from Lisbon through the 11 main road axes\n",
    "- D1 Top 10 countries of origin for roaming terminal equipment\n",
    "- E1 Number of voice calls that terminated in the grid\n",
    "- E2 Average downstream rate in the grid within the grid\n",
    "- E3 Average upstream rate in the grid\n",
    "- E4 Peak downstream rate in the grid\n",
    "- E5 Peak upstream rate in the grid\n",
    "- E6 Top 10 Applications (Text with names separated by ;)\n",
    "- E7 Minimum duration of stay within the grid\n",
    "- E8 Average duration of stay within the grid\n",
    "- E9 Maximum duration of stay within the grid\n",
    "- E10 Number of devices that participate in the connection sharing within the grid"
   ]
  },
  {
   "cell_type": "code",
   "execution_count": null,
   "metadata": {},
   "outputs": [],
   "source": [
    "import pandas as pd\n",
    "import numpy as np\n",
    "import glob\n",
    "\n",
    "csv_files = glob.glob('data/DataSetSamples/sample_April2022.csv')\n",
    "\n",
    "dfs = []\n",
    "\n",
    "for csv_file in csv_files:\n",
    "    df = pd.read_csv(csv_file, dtype={'E6': 'string'})\n",
    "    dfs.append(df)\n",
    "\n",
    "df = pd.concat(dfs, ignore_index=True)\n"
   ]
  },
  {
   "cell_type": "code",
   "execution_count": null,
   "metadata": {},
   "outputs": [],
   "source": [
    "print(df.shape)\n",
    "df.head()"
   ]
  },
  {
   "cell_type": "code",
   "execution_count": null,
   "metadata": {},
   "outputs": [],
   "source": [
    "print(df.info(show_counts=True))"
   ]
  },
  {
   "cell_type": "markdown",
   "metadata": {},
   "source": [
    "Columns with a NaN values in the dataset:\n",
    "- **Unnamed: 0.1** - have only index values in float type, so we can drop it\n",
    "- **Unnamed: 0** - same as above, but index values are in int type\n",
    "- **extract_year, extract_month, extract_day** - we have **Datetime**, so we can drop it\n",
    "- **D1** - include roaming information in the grid, so NaN values also represent some information, which can be used later\n",
    "- **E6** - include most used apps in the grid, so NaN values can also represent some information, but it needs future investigation\n",
    "- **extract_year_2, extract_month_3, extract_day_4** - we have **DateTime** column, so we can drop it"
   ]
  },
  {
   "cell_type": "code",
   "execution_count": null,
   "metadata": {},
   "outputs": [],
   "source": [
    "drop_columns = ['Unnamed: 0', 'Unnamed: 0.1', 'extract_year', 'extract_month', 'extract_day', 'extract_year_2', 'extract_month_3', 'extract_day_4']\n",
    "df.drop(drop_columns, axis=1, inplace=True)\n",
    "df.head()"
   ]
  },
  {
   "cell_type": "markdown",
   "metadata": {},
   "source": [
    "    Main road to consideration:\n",
    "- Ponte Vasco da Gama:\n",
    "3651/3629\n",
    "- A36 (Túnel do Grilo)\n",
    "3563/3564/3565\n",
    "- IC16\n",
    "3319/3320\n",
    "- N117 (Cabos Ávila)\n",
    "933/934/990\n",
    "- Marginal\n",
    "75/76\n",
    "- IC2 (Sacavém)\n",
    "3736/3728\n",
    "- A1\n",
    "3524/3564\n",
    "- Calçada de Carriche\n",
    "3460/3500/3501\n",
    "- IC19\n",
    "1758/1759/1699\n",
    "- A5\n",
    "698/757/758\n",
    "- Ponte 25 Abril\n",
    "102/103"
   ]
  },
  {
   "cell_type": "code",
   "execution_count": null,
   "metadata": {},
   "outputs": [],
   "source": [
    "def assign_street_name(grid_id):\n",
    "    for street, grid_ids in street_names.items():\n",
    "        if grid_id in grid_ids:\n",
    "            print(f\"grid_id: {grid_id}, street: {street}\")\n",
    "            return street\n",
    "    return None\n",
    "\n",
    "\n",
    "\n",
    "csv_files_1 = glob.glob('data/June2023.csv')\n",
    "#  Create a list of road names from main roads in Lisbon with grid IDs\n",
    "street_names = {\n",
    "    \"Ponte Vasco da Gama\": [3651, 3629],\n",
    "    \"A36\": [3563, 3564, 3565],\n",
    "    \"IC16\": [3319, 3320],\n",
    "    \"N117\": [933, 934, 990],\n",
    "    \"Marginal\": [75, 76],\n",
    "    \"IC2 (Sacavém)\": [3736, 3728],\n",
    "    \"A1\": [3524, 3564],\n",
    "    \"Calcada De Carriche\": [3460, 3500, 3501],\n",
    "    \"IC19\": [1758, 1759, 1699],\n",
    "    \"A5\": [689, 757, 758],\n",
    "    \"Ponte 25 Abril 102/103\": [102, 103],\n",
    "}\n",
    "dfs = []\n",
    "\n",
    "for csv_file in csv_files_1:\n",
    "    df_road = pd.read_csv(csv_file, dtype={'E6': 'string'})\n",
    "    dfs.append(df_road)\n",
    "\n",
    "df_road = pd.concat(dfs, ignore_index=True)\n",
    "df_road['Street_Name'] = df_road['Grid_ID'].apply(assign_street_name)\n",
    "# ponte_vasco_da_gama = df_road.loc[(df_road['Grid_ID'] >= 3629) & (df_road['Grid_ID'] <= 3651)]\n",
    "# print(main_roads)"
   ]
  }
 ],
 "metadata": {
  "kernelspec": {
   "display_name": "traffic-monitoring",
   "language": "python",
   "name": "python3"
  },
  "language_info": {
   "codemirror_mode": {
    "name": "ipython",
    "version": 3
   },
   "file_extension": ".py",
   "mimetype": "text/x-python",
   "name": "python",
   "nbconvert_exporter": "python",
   "pygments_lexer": "ipython3",
   "version": "3.11.5"
  }
 },
 "nbformat": 4,
 "nbformat_minor": 2
}
